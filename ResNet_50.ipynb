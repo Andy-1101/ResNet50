{
 "cells": [
  {
   "cell_type": "code",
   "execution_count": 1,
   "id": "d82f762b",
   "metadata": {},
   "outputs": [],
   "source": [
    "#check for GPU please ignore\n",
    "import tensorflow as tf \n",
    "from tensorflow.python.client import device_lib "
   ]
  },
  {
   "cell_type": "code",
   "execution_count": 2,
   "id": "f2c1fb76",
   "metadata": {},
   "outputs": [
    {
     "data": {
      "text/plain": [
       "[name: \"/device:CPU:0\"\n",
       " device_type: \"CPU\"\n",
       " memory_limit: 268435456\n",
       " locality {\n",
       " }\n",
       " incarnation: 5551512676501128486,\n",
       " name: \"/device:XLA_CPU:0\"\n",
       " device_type: \"XLA_CPU\"\n",
       " memory_limit: 17179869184\n",
       " locality {\n",
       " }\n",
       " incarnation: 2148749322129998784\n",
       " physical_device_desc: \"device: XLA_CPU device\",\n",
       " name: \"/device:GPU:0\"\n",
       " device_type: \"GPU\"\n",
       " memory_limit: 7036698624\n",
       " locality {\n",
       "   bus_id: 1\n",
       "   links {\n",
       "   }\n",
       " }\n",
       " incarnation: 10183952910300953158\n",
       " physical_device_desc: \"device: 0, name: NVIDIA GeForce GTX 1070 with Max-Q Design, pci bus id: 0000:01:00.0, compute capability: 6.1\",\n",
       " name: \"/device:XLA_GPU:0\"\n",
       " device_type: \"XLA_GPU\"\n",
       " memory_limit: 17179869184\n",
       " locality {\n",
       " }\n",
       " incarnation: 3162496859607951116\n",
       " physical_device_desc: \"device: XLA_GPU device\"]"
      ]
     },
     "execution_count": 2,
     "metadata": {},
     "output_type": "execute_result"
    }
   ],
   "source": [
    "device_lib.list_local_devices()"
   ]
  },
  {
   "cell_type": "code",
   "execution_count": 1,
   "id": "ea7c8252",
   "metadata": {},
   "outputs": [
    {
     "data": {
      "text/plain": [
       "'\\nBuild RersNet50 \\n'"
      ]
     },
     "execution_count": 1,
     "metadata": {},
     "output_type": "execute_result"
    }
   ],
   "source": [
    "\"\"\"\n",
    "Build RersNet50 \n",
    "\"\"\""
   ]
  },
  {
   "cell_type": "code",
   "execution_count": 1,
   "id": "b8a88130",
   "metadata": {},
   "outputs": [],
   "source": [
    "from tensorflow.keras.datasets import cifar10\n",
    "import tensorflow as tf \n",
    "from tensorflow import keras \n",
    "import numpy as np \n",
    "import pandas as pd\n",
    "import matplotlib.pyplot as plt"
   ]
  },
  {
   "cell_type": "code",
   "execution_count": 2,
   "id": "9377c74e",
   "metadata": {},
   "outputs": [],
   "source": [
    "(x_train,y_train),(x_test,y_test) = cifar10.load_data()"
   ]
  },
  {
   "cell_type": "code",
   "execution_count": 3,
   "id": "a3e086d9",
   "metadata": {},
   "outputs": [],
   "source": [
    "#MIN-MAX Normalize \n",
    "x_train = x_train / 255.0\n",
    "x_test = x_test / 255.0"
   ]
  },
  {
   "cell_type": "code",
   "execution_count": 4,
   "id": "632bfeef",
   "metadata": {},
   "outputs": [],
   "source": [
    "InitSeed = 767 \n",
    "tf.random.set_seed(InitSeed)\n",
    "np.random.seed(InitSeed)"
   ]
  },
  {
   "cell_type": "code",
   "execution_count": 4,
   "id": "931c786c",
   "metadata": {},
   "outputs": [],
   "source": [
    "###1. Build a ResidualUnit Layer\n",
    "def res_unit(x,filters,s):\n",
    "    skip = x\n",
    "    # 1 x 1, filters [64,128,256,512]\n",
    "    x = keras.layers.Conv2D(filters, 1, s, padding='same')(x)\n",
    "    x = keras.layers.BatchNormalization()(x)\n",
    "    x = keras.layers.Activation('relu')(x)\n",
    "    x = keras.layers.Dropout(0.25)(x)\n",
    "\n",
    "    # 3 x 3, filters \n",
    "    x = keras.layers.Conv2D(filters, 3, 1, padding='same')(x)\n",
    "    x = keras.layers.BatchNormalization()(x)\n",
    "    x = keras.layers.Activation('relu')(x)\n",
    "    x = keras.layers.Dropout(0.25)(x)\n",
    "\n",
    "    # 1 x 1, filters*4 \n",
    "    x = keras.layers.Conv2D(filters*4, 1, 1, padding='same')(x)\n",
    "    x = keras.layers.BatchNormalization()(x)\n",
    "    \n",
    "    return x,skip \n",
    " "
   ]
  },
  {
   "cell_type": "code",
   "execution_count": 5,
   "id": "bae6fa78",
   "metadata": {},
   "outputs": [],
   "source": [
    "###2. entire network \n",
    "def skip_block(x,filters,s=2,change=False):\n",
    "    stride = s \n",
    "    if change == False:\n",
    "        x,skip = res_unit(x,filters,1)\n",
    "        x = keras.layers.add([x, skip])\n",
    "        x = keras.layers.Activation('relu')(x)\n",
    "        x = keras.layers.Dropout(0.25)(x)\n",
    "        return x\n",
    "    elif change == True:\n",
    "        x,skip = res_unit(x,filters,stride)\n",
    "        skip = keras.layers.Conv2D(filters*4,1,s, padding='same')(skip)\n",
    "        skip = keras.layers.BatchNormalization()(skip)\n",
    "        x = keras.layers.add([ x, skip])\n",
    "        x = keras.layers.Activation('relu')(x)\n",
    "        x = keras.layers.Dropout(0.25)(x)\n",
    "        return x"
   ]
  },
  {
   "cell_type": "code",
   "execution_count": 6,
   "id": "ec496164",
   "metadata": {},
   "outputs": [],
   "source": [
    "def model_res():\n",
    "    x_input = keras.Input([32,32,3])\n",
    "    \n",
    "    #conV1\n",
    "    x = keras.layers.Conv2D(64, 7, strides=2)(x_input)\n",
    "    x = keras.layers.BatchNormalization()(x)\n",
    "    x = keras.layers.Activation('relu')(x)\n",
    "    x = keras.layers.MaxPooling2D(3, strides=2)(x)\n",
    "    \n",
    "    #conV2_x\n",
    "    x = skip_block(x,64,s=2,change=True)\n",
    "    for i in range(2):\n",
    "        x = skip_block(x,64,1)\n",
    " \n",
    "    #conV3_x\n",
    "    x = skip_block(x,128,s=2,change=True)\n",
    "    for i in range(3):\n",
    "        x = skip_block(x,128,1)\n",
    "    \n",
    "    #conV4_x\n",
    "    x = skip_block(x,256,s=2,change=True)\n",
    "    for i in range(5):\n",
    "        x = skip_block(x,256,1)\n",
    "    \n",
    "    \n",
    "    #conv5_x\n",
    "    x = skip_block(x,512,s=2,change=True)\n",
    "    for i in range(2):\n",
    "        x = skip_block(x,512,1)\n",
    "    \n",
    "    \n",
    "    x = keras.layers.AveragePooling2D(2, padding='same')(x)\n",
    "    x = keras.layers.Flatten()(x)\n",
    "    x = keras.layers.Dense(10, activation='softmax')(x)\n",
    "    return keras.Model(inputs=x_input, outputs=x)\n",
    "\n",
    "my_callbacks = [\n",
    "    tf.keras.callbacks.EarlyStopping(  patience=10, restore_best_weights=True), \n",
    "    tf.keras.callbacks.ModelCheckpoint( \"best_model_hw8.h5\",save_best_only=True), #save best model \n",
    "]"
   ]
  },
  {
   "cell_type": "code",
   "execution_count": 7,
   "id": "17bebbf6",
   "metadata": {},
   "outputs": [],
   "source": [
    "model = model_res()"
   ]
  },
  {
   "cell_type": "code",
   "execution_count": 8,
   "id": "7a59e01b",
   "metadata": {},
   "outputs": [
    {
     "name": "stdout",
     "output_type": "stream",
     "text": [
      "Epoch 1/100\n",
      "1407/1407 [==============================] - 82s 58ms/step - loss: 3.0481 - accuracy: 0.1316 - val_loss: 2.2636 - val_accuracy: 0.1654\n",
      "Epoch 2/100\n",
      "1407/1407 [==============================] - 77s 55ms/step - loss: 2.3547 - accuracy: 0.1685 - val_loss: 2.4424 - val_accuracy: 0.1280\n",
      "Epoch 3/100\n",
      "1407/1407 [==============================] - 79s 56ms/step - loss: 2.2139 - accuracy: 0.1863 - val_loss: 2.1767 - val_accuracy: 0.1618\n",
      "Epoch 4/100\n",
      "1407/1407 [==============================] - 78s 56ms/step - loss: 2.1203 - accuracy: 0.1984 - val_loss: 2.0144 - val_accuracy: 0.2208\n",
      "Epoch 5/100\n",
      "1407/1407 [==============================] - 78s 55ms/step - loss: 2.0549 - accuracy: 0.2159 - val_loss: 1.9482 - val_accuracy: 0.2510\n",
      "Epoch 6/100\n",
      "1407/1407 [==============================] - 79s 56ms/step - loss: 2.0037 - accuracy: 0.2346 - val_loss: 1.9395 - val_accuracy: 0.2580\n",
      "Epoch 7/100\n",
      "1407/1407 [==============================] - 78s 55ms/step - loss: 1.9298 - accuracy: 0.2600 - val_loss: 1.8883 - val_accuracy: 0.2766\n",
      "Epoch 8/100\n",
      "1407/1407 [==============================] - 77s 54ms/step - loss: 1.8880 - accuracy: 0.2716 - val_loss: 1.8306 - val_accuracy: 0.2922\n",
      "Epoch 9/100\n",
      "1407/1407 [==============================] - 79s 56ms/step - loss: 1.8578 - accuracy: 0.2818 - val_loss: 1.8290 - val_accuracy: 0.2898\n",
      "Epoch 10/100\n",
      "1407/1407 [==============================] - 77s 55ms/step - loss: 1.8442 - accuracy: 0.2882 - val_loss: 1.7545 - val_accuracy: 0.3230\n",
      "Epoch 11/100\n",
      "1407/1407 [==============================] - 76s 54ms/step - loss: 1.8109 - accuracy: 0.2993 - val_loss: 1.8521 - val_accuracy: 0.2898\n",
      "Epoch 12/100\n",
      "1407/1407 [==============================] - 80s 57ms/step - loss: 1.7902 - accuracy: 0.3074 - val_loss: 1.7453 - val_accuracy: 0.3346\n",
      "Epoch 13/100\n",
      "1407/1407 [==============================] - 78s 55ms/step - loss: 1.7774 - accuracy: 0.3213 - val_loss: 1.6895 - val_accuracy: 0.3436\n",
      "Epoch 14/100\n",
      "1407/1407 [==============================] - 77s 55ms/step - loss: 1.7557 - accuracy: 0.3273 - val_loss: 1.7077 - val_accuracy: 0.3462\n",
      "Epoch 15/100\n",
      "1407/1407 [==============================] - 78s 56ms/step - loss: 1.7411 - accuracy: 0.3342 - val_loss: 1.7280 - val_accuracy: 0.3328\n",
      "Epoch 16/100\n",
      "1407/1407 [==============================] - 77s 55ms/step - loss: 1.7192 - accuracy: 0.3405 - val_loss: 1.7127 - val_accuracy: 0.3500\n",
      "Epoch 17/100\n",
      "1407/1407 [==============================] - 77s 55ms/step - loss: 1.7032 - accuracy: 0.3537 - val_loss: 1.6198 - val_accuracy: 0.3830\n",
      "Epoch 18/100\n",
      "1407/1407 [==============================] - 77s 55ms/step - loss: 1.6859 - accuracy: 0.3590 - val_loss: 1.6364 - val_accuracy: 0.3846\n",
      "Epoch 19/100\n",
      "1407/1407 [==============================] - 78s 55ms/step - loss: 1.6738 - accuracy: 0.3631 - val_loss: 1.6847 - val_accuracy: 0.3664\n",
      "Epoch 20/100\n",
      "1407/1407 [==============================] - 78s 55ms/step - loss: 1.6593 - accuracy: 0.3681 - val_loss: 1.6099 - val_accuracy: 0.3880\n",
      "Epoch 21/100\n",
      "1407/1407 [==============================] - 78s 55ms/step - loss: 1.6510 - accuracy: 0.3745 - val_loss: 1.6520 - val_accuracy: 0.3820\n",
      "Epoch 22/100\n",
      "1407/1407 [==============================] - 78s 55ms/step - loss: 1.6379 - accuracy: 0.3761 - val_loss: 1.5933 - val_accuracy: 0.4048\n",
      "Epoch 23/100\n",
      "1407/1407 [==============================] - 77s 55ms/step - loss: 1.6304 - accuracy: 0.3779 - val_loss: 1.5696 - val_accuracy: 0.4138\n",
      "Epoch 24/100\n",
      "1407/1407 [==============================] - 79s 56ms/step - loss: 1.6081 - accuracy: 0.3860 - val_loss: 1.5679 - val_accuracy: 0.4054\n",
      "Epoch 25/100\n",
      "1407/1407 [==============================] - 77s 55ms/step - loss: 1.6093 - accuracy: 0.3888 - val_loss: 1.5631 - val_accuracy: 0.4066\n",
      "Epoch 26/100\n",
      "1407/1407 [==============================] - 80s 57ms/step - loss: 1.6032 - accuracy: 0.3886 - val_loss: 1.5871 - val_accuracy: 0.4018\n",
      "Epoch 27/100\n",
      "1407/1407 [==============================] - 78s 55ms/step - loss: 1.5913 - accuracy: 0.3962 - val_loss: 1.6042 - val_accuracy: 0.4034\n",
      "Epoch 28/100\n",
      "1407/1407 [==============================] - 81s 57ms/step - loss: 1.5794 - accuracy: 0.3967 - val_loss: 1.6227 - val_accuracy: 0.3992\n",
      "Epoch 29/100\n",
      "1407/1407 [==============================] - 83s 59ms/step - loss: 1.5742 - accuracy: 0.4039 - val_loss: 1.5162 - val_accuracy: 0.4320\n",
      "Epoch 30/100\n",
      "1407/1407 [==============================] - 79s 56ms/step - loss: 1.5698 - accuracy: 0.4046 - val_loss: 1.5403 - val_accuracy: 0.4274\n",
      "Epoch 31/100\n",
      "1407/1407 [==============================] - 77s 55ms/step - loss: 1.5653 - accuracy: 0.4033 - val_loss: 1.5522 - val_accuracy: 0.4244\n",
      "Epoch 32/100\n",
      "1407/1407 [==============================] - 77s 55ms/step - loss: 1.5510 - accuracy: 0.4131 - val_loss: 1.5043 - val_accuracy: 0.4530\n",
      "Epoch 33/100\n",
      "1407/1407 [==============================] - 78s 56ms/step - loss: 1.5519 - accuracy: 0.4130 - val_loss: 1.5248 - val_accuracy: 0.4424\n",
      "Epoch 34/100\n",
      "1407/1407 [==============================] - 80s 57ms/step - loss: 1.5418 - accuracy: 0.4172 - val_loss: 1.5429 - val_accuracy: 0.4250\n",
      "Epoch 35/100\n",
      "1407/1407 [==============================] - 77s 55ms/step - loss: 1.5397 - accuracy: 0.4169 - val_loss: 1.5081 - val_accuracy: 0.4458\n",
      "Epoch 36/100\n",
      "1407/1407 [==============================] - 77s 55ms/step - loss: 1.5344 - accuracy: 0.4193 - val_loss: 1.5217 - val_accuracy: 0.4452\n",
      "Epoch 37/100\n",
      "1407/1407 [==============================] - 77s 55ms/step - loss: 1.5273 - accuracy: 0.4230 - val_loss: 1.5063 - val_accuracy: 0.4478\n",
      "Epoch 38/100\n",
      "1407/1407 [==============================] - 78s 55ms/step - loss: 1.5297 - accuracy: 0.4236 - val_loss: 1.4871 - val_accuracy: 0.4578\n",
      "Epoch 39/100\n",
      "1407/1407 [==============================] - 80s 57ms/step - loss: 1.5231 - accuracy: 0.4249 - val_loss: 1.4507 - val_accuracy: 0.4692\n",
      "Epoch 40/100\n",
      "1407/1407 [==============================] - 76s 54ms/step - loss: 1.5151 - accuracy: 0.4317 - val_loss: 1.4648 - val_accuracy: 0.4646\n",
      "Epoch 41/100\n",
      "1407/1407 [==============================] - 76s 54ms/step - loss: 1.5097 - accuracy: 0.4318 - val_loss: 1.4759 - val_accuracy: 0.4572\n",
      "Epoch 42/100\n",
      "1407/1407 [==============================] - 78s 55ms/step - loss: 1.5106 - accuracy: 0.4304 - val_loss: 1.4620 - val_accuracy: 0.4670\n",
      "Epoch 43/100\n",
      "1407/1407 [==============================] - 80s 57ms/step - loss: 1.5010 - accuracy: 0.4353 - val_loss: 1.4585 - val_accuracy: 0.4668\n",
      "Epoch 44/100\n",
      "1407/1407 [==============================] - 78s 56ms/step - loss: 1.5031 - accuracy: 0.4364 - val_loss: 1.4853 - val_accuracy: 0.4628\n",
      "Epoch 45/100\n",
      "1407/1407 [==============================] - 78s 55ms/step - loss: 1.4909 - accuracy: 0.4390 - val_loss: 1.4492 - val_accuracy: 0.4718\n",
      "Epoch 46/100\n",
      "1407/1407 [==============================] - 78s 55ms/step - loss: 1.4936 - accuracy: 0.4372 - val_loss: 1.4345 - val_accuracy: 0.4762\n",
      "Epoch 47/100\n",
      "1407/1407 [==============================] - 78s 55ms/step - loss: 1.4883 - accuracy: 0.4398 - val_loss: 1.4362 - val_accuracy: 0.4754\n",
      "Epoch 48/100\n",
      "1407/1407 [==============================] - 77s 55ms/step - loss: 1.4919 - accuracy: 0.4398 - val_loss: 1.4768 - val_accuracy: 0.4632\n",
      "Epoch 49/100\n",
      "1407/1407 [==============================] - 84s 60ms/step - loss: 1.4892 - accuracy: 0.4398 - val_loss: 1.4406 - val_accuracy: 0.4746\n",
      "Epoch 50/100\n",
      "1407/1407 [==============================] - 79s 56ms/step - loss: 1.4849 - accuracy: 0.4457 - val_loss: 1.4381 - val_accuracy: 0.4770\n",
      "Epoch 51/100\n",
      "1407/1407 [==============================] - 79s 56ms/step - loss: 1.4807 - accuracy: 0.4456 - val_loss: 1.4372 - val_accuracy: 0.4796\n",
      "Epoch 52/100\n",
      "1407/1407 [==============================] - 79s 56ms/step - loss: 1.4802 - accuracy: 0.4461 - val_loss: 1.4334 - val_accuracy: 0.4760\n",
      "Epoch 53/100\n",
      "1407/1407 [==============================] - 78s 56ms/step - loss: 1.4733 - accuracy: 0.4466 - val_loss: 1.4275 - val_accuracy: 0.4786\n",
      "Epoch 54/100\n",
      "1407/1407 [==============================] - 78s 56ms/step - loss: 1.4721 - accuracy: 0.4482 - val_loss: 1.4489 - val_accuracy: 0.4712\n",
      "Epoch 55/100\n",
      "1407/1407 [==============================] - 79s 56ms/step - loss: 1.4697 - accuracy: 0.4522 - val_loss: 1.4645 - val_accuracy: 0.4590\n",
      "Epoch 56/100\n"
     ]
    },
    {
     "name": "stdout",
     "output_type": "stream",
     "text": [
      "1407/1407 [==============================] - 77s 55ms/step - loss: 1.4693 - accuracy: 0.4499 - val_loss: 1.4399 - val_accuracy: 0.4740\n",
      "Epoch 57/100\n",
      "1407/1407 [==============================] - 79s 56ms/step - loss: 1.4672 - accuracy: 0.4510 - val_loss: 1.4260 - val_accuracy: 0.4814\n",
      "Epoch 58/100\n",
      "1407/1407 [==============================] - 77s 55ms/step - loss: 1.4589 - accuracy: 0.4543 - val_loss: 1.4304 - val_accuracy: 0.4788\n",
      "Epoch 59/100\n",
      "1407/1407 [==============================] - 79s 56ms/step - loss: 1.4634 - accuracy: 0.4533 - val_loss: 1.3853 - val_accuracy: 0.4948\n",
      "Epoch 60/100\n",
      "1407/1407 [==============================] - 78s 55ms/step - loss: 1.4570 - accuracy: 0.4574 - val_loss: 1.4163 - val_accuracy: 0.4904\n",
      "Epoch 61/100\n",
      "1407/1407 [==============================] - 77s 54ms/step - loss: 1.4496 - accuracy: 0.4564 - val_loss: 1.4026 - val_accuracy: 0.4968\n",
      "Epoch 62/100\n",
      "1407/1407 [==============================] - 78s 56ms/step - loss: 1.4508 - accuracy: 0.4562 - val_loss: 1.5812 - val_accuracy: 0.4284\n",
      "Epoch 63/100\n",
      "1407/1407 [==============================] - 78s 56ms/step - loss: 1.4454 - accuracy: 0.4632 - val_loss: 1.4467 - val_accuracy: 0.4752\n",
      "Epoch 64/100\n",
      "1407/1407 [==============================] - 79s 56ms/step - loss: 1.4398 - accuracy: 0.4615 - val_loss: 1.4051 - val_accuracy: 0.4838\n",
      "Epoch 65/100\n",
      "1407/1407 [==============================] - 79s 56ms/step - loss: 1.4418 - accuracy: 0.4606 - val_loss: 1.4098 - val_accuracy: 0.4808\n",
      "Epoch 66/100\n",
      "1407/1407 [==============================] - 78s 55ms/step - loss: 1.4418 - accuracy: 0.4614 - val_loss: 1.4612 - val_accuracy: 0.4696\n",
      "Epoch 67/100\n",
      "1407/1407 [==============================] - 80s 57ms/step - loss: 1.4402 - accuracy: 0.4643 - val_loss: 1.3934 - val_accuracy: 0.4840\n",
      "Epoch 68/100\n",
      "1407/1407 [==============================] - 77s 55ms/step - loss: 1.4369 - accuracy: 0.4640 - val_loss: 1.3847 - val_accuracy: 0.4904\n",
      "Epoch 69/100\n",
      "1407/1407 [==============================] - 80s 57ms/step - loss: 1.4315 - accuracy: 0.4666 - val_loss: 1.3831 - val_accuracy: 0.4982\n",
      "Epoch 70/100\n",
      "1407/1407 [==============================] - 80s 57ms/step - loss: 1.4373 - accuracy: 0.4638 - val_loss: 1.3643 - val_accuracy: 0.5030\n",
      "Epoch 71/100\n",
      "1407/1407 [==============================] - 83s 59ms/step - loss: 1.4312 - accuracy: 0.4721 - val_loss: 1.3610 - val_accuracy: 0.5132\n",
      "Epoch 72/100\n",
      "1407/1407 [==============================] - 80s 57ms/step - loss: 1.4173 - accuracy: 0.4707 - val_loss: 1.3557 - val_accuracy: 0.5100\n",
      "Epoch 73/100\n",
      "1407/1407 [==============================] - 80s 57ms/step - loss: 1.4309 - accuracy: 0.4662 - val_loss: 1.3775 - val_accuracy: 0.5062\n",
      "Epoch 74/100\n",
      "1407/1407 [==============================] - 81s 57ms/step - loss: 1.4224 - accuracy: 0.4728 - val_loss: 1.3941 - val_accuracy: 0.5004\n",
      "Epoch 75/100\n",
      "1407/1407 [==============================] - 79s 56ms/step - loss: 1.4217 - accuracy: 0.4696 - val_loss: 1.3881 - val_accuracy: 0.5044\n",
      "Epoch 76/100\n",
      "1407/1407 [==============================] - 76s 54ms/step - loss: 1.4222 - accuracy: 0.4718 - val_loss: 1.3837 - val_accuracy: 0.4942\n",
      "Epoch 77/100\n",
      "1407/1407 [==============================] - 78s 56ms/step - loss: 1.4226 - accuracy: 0.4703 - val_loss: 1.3795 - val_accuracy: 0.5072\n",
      "Epoch 78/100\n",
      "1407/1407 [==============================] - 80s 57ms/step - loss: 1.4149 - accuracy: 0.4736 - val_loss: 1.3657 - val_accuracy: 0.5072\n",
      "Epoch 79/100\n",
      "1407/1407 [==============================] - 78s 55ms/step - loss: 1.4197 - accuracy: 0.4713 - val_loss: 1.3752 - val_accuracy: 0.5022\n",
      "Epoch 80/100\n",
      "1407/1407 [==============================] - 77s 55ms/step - loss: 1.4144 - accuracy: 0.4744 - val_loss: 1.3647 - val_accuracy: 0.5048\n",
      "Epoch 81/100\n",
      "1407/1407 [==============================] - 77s 55ms/step - loss: 1.4128 - accuracy: 0.4754 - val_loss: 1.3707 - val_accuracy: 0.5062\n",
      "Epoch 82/100\n",
      "1407/1407 [==============================] - 82s 58ms/step - loss: 1.4157 - accuracy: 0.4710 - val_loss: 1.3753 - val_accuracy: 0.5054\n"
     ]
    }
   ],
   "source": [
    "model.compile(loss='sparse_categorical_crossentropy',optimizer=keras.optimizers.Adam(learning_rate=0.001,decay=1e-3)\n",
    "              ,metrics=['accuracy'])\n",
    "history = model.fit(x_train, y_train, epochs=100,validation_split=0.1,verbose=1,callbacks=my_callbacks)"
   ]
  },
  {
   "cell_type": "code",
   "execution_count": 9,
   "id": "b80fe589",
   "metadata": {},
   "outputs": [
    {
     "name": "stdout",
     "output_type": "stream",
     "text": [
      "313/313 [==============================] - 5s 15ms/step - loss: 1.3624 - accuracy: 0.5015\n"
     ]
    }
   ],
   "source": [
    "test_score = model.evaluate(x_test,y_test)"
   ]
  },
  {
   "cell_type": "code",
   "execution_count": 10,
   "id": "6ea6f8e8",
   "metadata": {
    "scrolled": false
   },
   "outputs": [
    {
     "data": {
      "image/png": "[encoded data removed]",
      "text/plain": [
       "<Figure size 576x360 with 1 Axes>"
      ]
     },
     "metadata": {
      "needs_background": "light"
     },
     "output_type": "display_data"
    }
   ],
   "source": [
    "#plot leaning curve \n",
    "pd.DataFrame(history.history).plot(figsize=(8, 5)) \n",
    "plt.grid(True)\n",
    "plt.show()"
   ]
  },
  {
   "cell_type": "code",
   "execution_count": 32,
   "id": "75b9fab4",
   "metadata": {},
   "outputs": [],
   "source": [
    "###3. transfer learning\n",
    "KerasModel = keras.applications.resnet50.ResNet50(weights='imagenet', input_tensor=keras.Input(shape=(32,32,3))) "
   ]
  },
  {
   "cell_type": "code",
   "execution_count": 77,
   "id": "84d0aa58",
   "metadata": {
    "scrolled": false
   },
   "outputs": [],
   "source": [
    "exchange = [] \n",
    "for i in range(320):\n",
    "    if KerasModel.get_weights()[i].shape != model.get_weights()[i].shape:\n",
    "        exchange.append(i)\n",
    "exchange        "
   ]
  },
  {
   "cell_type": "code",
   "execution_count": 115,
   "id": "0080219d",
   "metadata": {},
   "outputs": [],
   "source": [
    "#same differences keep the original weights\n",
    "tmp = KerasModel.get_weights()\n",
    "target = KerasModel.get_weights()\n",
    "target[78] =  model.get_weights()[78]\n",
    "target[80] =  model.get_weights()[80]\n",
    "target[156] = model.get_weights()[156]\n",
    "target[158] = model.get_weights()[158]\n",
    "target[270] = model.get_weights()[270]\n",
    "target[272] = model.get_weights()[272]"
   ]
  },
  {
   "cell_type": "code",
   "execution_count": 116,
   "id": "c865b689",
   "metadata": {},
   "outputs": [],
   "source": [
    "model.set_weights(target) "
   ]
  },
  {
   "cell_type": "code",
   "execution_count": null,
   "id": "9c215a86",
   "metadata": {},
   "outputs": [],
   "source": []
  },
  {
   "cell_type": "code",
   "execution_count": null,
   "id": "c116f027",
   "metadata": {},
   "outputs": [],
   "source": []
  },
  {
   "cell_type": "code",
   "execution_count": null,
   "id": "eb7b1143",
   "metadata": {},
   "outputs": [],
   "source": []
  },
  {
   "cell_type": "code",
   "execution_count": null,
   "id": "06216190",
   "metadata": {},
   "outputs": [],
   "source": []
  },
  {
   "cell_type": "code",
   "execution_count": null,
   "id": "a2222e9c",
   "metadata": {},
   "outputs": [],
   "source": []
  }
 ],
 "metadata": {
  "kernelspec": {
   "display_name": "gpu2",
   "language": "python",
   "name": "gpu2"
  },
  "language_info": {
   "codemirror_mode": {
    "name": "ipython",
    "version": 3
   },
   "file_extension": ".py",
   "mimetype": "text/x-python",
   "name": "python",
   "nbconvert_exporter": "python",
   "pygments_lexer": "ipython3",
   "version": "3.6.13"
  }
 },
 "nbformat": 4,
 "nbformat_minor": 5
}
